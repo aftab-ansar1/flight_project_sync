{
 "cells": [
  {
   "cell_type": "code",
   "execution_count": 8,
   "id": "851306ca",
   "metadata": {},
   "outputs": [],
   "source": [
    "import pandas as pd\n",
    "import numpy as np\n",
    "import matplotlib.pyplot as plt\n",
    "import seaborn as sns\n",
    "from sklearn.preprocessing import StandardScaler, MinMaxScaler\n",
    "from sklearn.model_selection import train_test_split"
   ]
  },
  {
   "cell_type": "code",
   "execution_count": 9,
   "id": "0c88436a",
   "metadata": {},
   "outputs": [
    {
     "data": {
      "text/html": [
       "<div>\n",
       "<style scoped>\n",
       "    .dataframe tbody tr th:only-of-type {\n",
       "        vertical-align: middle;\n",
       "    }\n",
       "\n",
       "    .dataframe tbody tr th {\n",
       "        vertical-align: top;\n",
       "    }\n",
       "\n",
       "    .dataframe thead th {\n",
       "        text-align: right;\n",
       "    }\n",
       "</style>\n",
       "<table border=\"1\" class=\"dataframe\">\n",
       "  <thead>\n",
       "    <tr style=\"text-align: right;\">\n",
       "      <th></th>\n",
       "      <th>Unnamed: 0</th>\n",
       "      <th>Airline</th>\n",
       "      <th>Source</th>\n",
       "      <th>Destination</th>\n",
       "      <th>Additional_Info</th>\n",
       "      <th>Price</th>\n",
       "      <th>dur_min</th>\n",
       "      <th>stops</th>\n",
       "      <th>journey_day</th>\n",
       "      <th>dep_time</th>\n",
       "    </tr>\n",
       "  </thead>\n",
       "  <tbody>\n",
       "    <tr>\n",
       "      <th>0</th>\n",
       "      <td>0</td>\n",
       "      <td>IndiGo</td>\n",
       "      <td>Banglore</td>\n",
       "      <td>New Delhi</td>\n",
       "      <td>No Info</td>\n",
       "      <td>3897.0</td>\n",
       "      <td>170.0</td>\n",
       "      <td>0</td>\n",
       "      <td>6</td>\n",
       "      <td>222000</td>\n",
       "    </tr>\n",
       "    <tr>\n",
       "      <th>1</th>\n",
       "      <td>1</td>\n",
       "      <td>Air India</td>\n",
       "      <td>Kolkata</td>\n",
       "      <td>Banglore</td>\n",
       "      <td>No Info</td>\n",
       "      <td>7662.0</td>\n",
       "      <td>445.0</td>\n",
       "      <td>2</td>\n",
       "      <td>5</td>\n",
       "      <td>55000</td>\n",
       "    </tr>\n",
       "    <tr>\n",
       "      <th>2</th>\n",
       "      <td>2</td>\n",
       "      <td>Jet Airways</td>\n",
       "      <td>Delhi</td>\n",
       "      <td>Cochin</td>\n",
       "      <td>No Info</td>\n",
       "      <td>13882.0</td>\n",
       "      <td>1140.0</td>\n",
       "      <td>2</td>\n",
       "      <td>4</td>\n",
       "      <td>92500</td>\n",
       "    </tr>\n",
       "    <tr>\n",
       "      <th>3</th>\n",
       "      <td>3</td>\n",
       "      <td>IndiGo</td>\n",
       "      <td>Kolkata</td>\n",
       "      <td>Banglore</td>\n",
       "      <td>No Info</td>\n",
       "      <td>6218.0</td>\n",
       "      <td>325.0</td>\n",
       "      <td>1</td>\n",
       "      <td>3</td>\n",
       "      <td>180500</td>\n",
       "    </tr>\n",
       "    <tr>\n",
       "      <th>4</th>\n",
       "      <td>4</td>\n",
       "      <td>IndiGo</td>\n",
       "      <td>Banglore</td>\n",
       "      <td>New Delhi</td>\n",
       "      <td>No Info</td>\n",
       "      <td>6494.0</td>\n",
       "      <td>285.0</td>\n",
       "      <td>1</td>\n",
       "      <td>3</td>\n",
       "      <td>165000</td>\n",
       "    </tr>\n",
       "  </tbody>\n",
       "</table>\n",
       "</div>"
      ],
      "text/plain": [
       "   Unnamed: 0      Airline    Source Destination Additional_Info    Price  \\\n",
       "0           0       IndiGo  Banglore   New Delhi         No Info   3897.0   \n",
       "1           1    Air India   Kolkata    Banglore         No Info   7662.0   \n",
       "2           2  Jet Airways     Delhi      Cochin         No Info  13882.0   \n",
       "3           3       IndiGo   Kolkata    Banglore         No Info   6218.0   \n",
       "4           4       IndiGo  Banglore   New Delhi         No Info   6494.0   \n",
       "\n",
       "   dur_min  stops  journey_day  dep_time  \n",
       "0    170.0      0            6    222000  \n",
       "1    445.0      2            5     55000  \n",
       "2   1140.0      2            4     92500  \n",
       "3    325.0      1            3    180500  \n",
       "4    285.0      1            3    165000  "
      ]
     },
     "execution_count": 9,
     "metadata": {},
     "output_type": "execute_result"
    }
   ],
   "source": [
    "df = pd.read_csv('D:\\\\GUVI\\\\visual_studio\\\\Fligh Data\\\\flight_project\\\\Flight_price_cleaned_data_2.csv')\n",
    "df.head()"
   ]
  },
  {
   "cell_type": "code",
   "execution_count": 10,
   "id": "36f5ab18",
   "metadata": {},
   "outputs": [],
   "source": [
    "df= df.drop('Unnamed: 0', axis = 1)"
   ]
  },
  {
   "cell_type": "code",
   "execution_count": 11,
   "id": "bf543d2c",
   "metadata": {},
   "outputs": [],
   "source": [
    "x = df.drop('Price', axis = 1)\n",
    "y = df.Price\n",
    "x = pd.get_dummies(x)\n",
    "\n",
    "x_train, x_test, y_train, y_test = train_test_split(x, y, test_size=0.2, random_state=42)"
   ]
  },
  {
   "cell_type": "markdown",
   "id": "4f543659",
   "metadata": {},
   "source": [
    "## Multiple Models"
   ]
  },
  {
   "cell_type": "code",
   "execution_count": 12,
   "id": "5d61a488",
   "metadata": {},
   "outputs": [],
   "source": [
    "from sklearn.linear_model import LinearRegression\n",
    "from sklearn.tree import DecisionTreeRegressor\n",
    "from sklearn.model_selection import GridSearchCV\n",
    "from sklearn.ensemble import RandomForestRegressor, GradientBoostingRegressor\n",
    "from sklearn.metrics import mean_absolute_error, mean_squared_error, r2_score"
   ]
  },
  {
   "cell_type": "code",
   "execution_count": 13,
   "id": "b6d976f6",
   "metadata": {},
   "outputs": [],
   "source": [
    "models = [\n",
    "    (\n",
    "        'LinearRegression',\n",
    "        {'n_jobs': None},\n",
    "        LinearRegression(),\n",
    "        (x_train, y_train),\n",
    "        (x_test, y_test)\n",
    "    ),\n",
    "    (\n",
    "        'Decision Tree',\n",
    "        {'criterion': 'absolute_error',\n",
    "        'max_depth': 7,\n",
    "        'min_samples_leaf': 70,\n",
    "        'min_samples_split': 220},\n",
    "        DecisionTreeRegressor(),\n",
    "        (x_train, y_train),\n",
    "        (x_test, y_test)\n",
    "    ),\n",
    "    (\n",
    "        'Decision Tree CV',\n",
    "        {'criterion': 'friedman_mse',\n",
    "        'max_depth': 25,\n",
    "        'max_features': 32,\n",
    "        'min_samples_leaf': 75,\n",
    "        'min_samples_split': 210},\n",
    "        DecisionTreeRegressor(),\n",
    "        (x_train, y_train),\n",
    "        (x_test, y_test)\n",
    "    ),\n",
    "    \n",
    "    (\n",
    "        'Gradient Boosting',\n",
    "        {'learning_rate': 0.1,\n",
    "        'max_depth': 3,\n",
    "        'n_estimators': 50,\n",
    "        },\n",
    "        GradientBoostingRegressor(),\n",
    "        (x_train, y_train),\n",
    "        (x_test, y_test)\n",
    "    ),\n",
    "    \n",
    "    (\n",
    "        'Gradient Boosting CV',\n",
    "        {'learning_rate': 0.3,\n",
    "        'max_depth': 6,\n",
    "        'n_estimators': 65,\n",
    "        },\n",
    "        GradientBoostingRegressor(),\n",
    "        (x_train, y_train),\n",
    "        (x_test, y_test)\n",
    "    ),\n",
    "    \n",
    "    (\n",
    "        'Random Forest',\n",
    "        {'max_depth': None,\n",
    "        'min_samples_leaf':1,\n",
    "        'min_samples_split':2,\n",
    "        'n_estimators': 100,\n",
    "        },\n",
    "        RandomForestRegressor(),\n",
    "        (x_train, y_train),\n",
    "        (x_test, y_test)\n",
    "    ),\n",
    "    \n",
    "    (\n",
    "        'Random Forest CV',\n",
    "        {'max_depth': 5,\n",
    "        'min_samples_leaf':1,\n",
    "        'min_samples_split':2,\n",
    "        'n_estimators': 125,\n",
    "        },\n",
    "        RandomForestRegressor(),\n",
    "        (x_train, y_train),\n",
    "        (x_test, y_test)\n",
    "    )\n",
    "]"
   ]
  },
  {
   "cell_type": "code",
   "execution_count": 14,
   "id": "72709d6f",
   "metadata": {},
   "outputs": [],
   "source": [
    "report = []\n",
    "for model_name, params, model, train_set, test_set in models:\n",
    "    x_train = train_set[0]\n",
    "    y_train = train_set[1]\n",
    "    x_test = test_set[0]\n",
    "    y_test = test_set[1]\n",
    "    model.set_params(**params)\n",
    "    model.fit(x_train, y_train)\n",
    "    y_pred = model.predict(x_test)\n",
    "    \n",
    "    mse = mean_squared_error(y_test, y_pred)\n",
    "    rmse = np.sqrt(mse)\n",
    "    mae = mean_absolute_error(y_test, y_pred)\n",
    "    R_score= r2_score(y_test, y_pred)\n",
    "    \n",
    "    report.append((model_name, mse, rmse, mae, R_score))"
   ]
  },
  {
   "cell_type": "code",
   "execution_count": 15,
   "id": "5d19147c",
   "metadata": {},
   "outputs": [
    {
     "data": {
      "text/plain": [
       "[('LinearRegression',\n",
       "  3449941.155822323,\n",
       "  np.float64(1857.401721712975),\n",
       "  1381.3818586028156,\n",
       "  0.7817513980637246),\n",
       " ('Decision Tree',\n",
       "  4397528.119209171,\n",
       "  np.float64(2097.0284020988297),\n",
       "  1173.7802994852598,\n",
       "  0.7218055843146419),\n",
       " ('Decision Tree CV',\n",
       "  4091561.725881008,\n",
       "  np.float64(2022.7609166386935),\n",
       "  1192.6115433303116,\n",
       "  0.7411614905655819),\n",
       " ('Gradient Boosting',\n",
       "  2888492.5445162035,\n",
       "  np.float64(1699.5565729084171),\n",
       "  1216.1845379955762,\n",
       "  0.8172695037188968),\n",
       " ('Gradient Boosting CV',\n",
       "  1973810.1015080567,\n",
       "  np.float64(1404.9235215868716),\n",
       "  915.3008684205016,\n",
       "  0.8751337267260866),\n",
       " ('Random Forest',\n",
       "  2469844.4122935906,\n",
       "  np.float64(1571.573864727201),\n",
       "  948.2777270262688,\n",
       "  0.8437538306781024),\n",
       " ('Random Forest CV',\n",
       "  3565202.877496815,\n",
       "  np.float64(1888.1744827999385),\n",
       "  1261.206986600865,\n",
       "  0.7744597636630127)]"
      ]
     },
     "execution_count": 15,
     "metadata": {},
     "output_type": "execute_result"
    }
   ],
   "source": [
    "report"
   ]
  },
  {
   "cell_type": "code",
   "execution_count": 16,
   "id": "e6bc17f0",
   "metadata": {},
   "outputs": [],
   "source": [
    "import mlflow"
   ]
  },
  {
   "cell_type": "code",
   "execution_count": 38,
   "id": "440b27e4",
   "metadata": {},
   "outputs": [
    {
     "name": "stderr",
     "output_type": "stream",
     "text": [
      "2025/04/26 21:15:00 INFO mlflow.tracking.fluent: Experiment with name 'Flight_Price_Experiment_0' does not exist. Creating a new experiment.\n"
     ]
    },
    {
     "name": "stderr",
     "output_type": "stream",
     "text": [
      "2025/04/26 21:15:03 WARNING mlflow.models.model: Model logged without a signature and input example. Please set `input_example` parameter when logging the model to auto infer the model signature.\n"
     ]
    },
    {
     "name": "stdout",
     "output_type": "stream",
     "text": [
      "🏃 View run LinearRegression at: http://127.0.0.1:5000/#/experiments/730251750864844700/runs/1c39c13e54df49cbbc3108c1ba7bef7b\n",
      "🧪 View experiment at: http://127.0.0.1:5000/#/experiments/730251750864844700\n"
     ]
    },
    {
     "name": "stderr",
     "output_type": "stream",
     "text": [
      "2025/04/26 21:15:06 WARNING mlflow.models.model: Model logged without a signature and input example. Please set `input_example` parameter when logging the model to auto infer the model signature.\n"
     ]
    },
    {
     "name": "stdout",
     "output_type": "stream",
     "text": [
      "🏃 View run Decision Tree at: http://127.0.0.1:5000/#/experiments/730251750864844700/runs/1adb3b46154e486fb2095edaf1d55eee\n",
      "🧪 View experiment at: http://127.0.0.1:5000/#/experiments/730251750864844700\n"
     ]
    },
    {
     "name": "stderr",
     "output_type": "stream",
     "text": [
      "2025/04/26 21:15:08 WARNING mlflow.models.model: Model logged without a signature and input example. Please set `input_example` parameter when logging the model to auto infer the model signature.\n"
     ]
    },
    {
     "name": "stdout",
     "output_type": "stream",
     "text": [
      "🏃 View run Decision Tree CV at: http://127.0.0.1:5000/#/experiments/730251750864844700/runs/2ef7349aaaed4693b87b4a056f39e4a2\n",
      "🧪 View experiment at: http://127.0.0.1:5000/#/experiments/730251750864844700\n"
     ]
    },
    {
     "name": "stderr",
     "output_type": "stream",
     "text": [
      "2025/04/26 21:15:11 WARNING mlflow.models.model: Model logged without a signature and input example. Please set `input_example` parameter when logging the model to auto infer the model signature.\n"
     ]
    },
    {
     "name": "stdout",
     "output_type": "stream",
     "text": [
      "🏃 View run Gradient Boosting at: http://127.0.0.1:5000/#/experiments/730251750864844700/runs/258aff331af3415a910018113bdfa1c2\n",
      "🧪 View experiment at: http://127.0.0.1:5000/#/experiments/730251750864844700\n"
     ]
    },
    {
     "name": "stderr",
     "output_type": "stream",
     "text": [
      "2025/04/26 21:15:14 WARNING mlflow.models.model: Model logged without a signature and input example. Please set `input_example` parameter when logging the model to auto infer the model signature.\n"
     ]
    },
    {
     "name": "stdout",
     "output_type": "stream",
     "text": [
      "🏃 View run Gradient Boosting CV at: http://127.0.0.1:5000/#/experiments/730251750864844700/runs/7311f103f70a4f0094355c1e63a6bd3c\n",
      "🧪 View experiment at: http://127.0.0.1:5000/#/experiments/730251750864844700\n"
     ]
    },
    {
     "name": "stderr",
     "output_type": "stream",
     "text": [
      "2025/04/26 21:15:17 WARNING mlflow.models.model: Model logged without a signature and input example. Please set `input_example` parameter when logging the model to auto infer the model signature.\n"
     ]
    },
    {
     "name": "stdout",
     "output_type": "stream",
     "text": [
      "🏃 View run Random Forest at: http://127.0.0.1:5000/#/experiments/730251750864844700/runs/94823fa68cb7421ab735b230f981881f\n",
      "🧪 View experiment at: http://127.0.0.1:5000/#/experiments/730251750864844700\n"
     ]
    },
    {
     "name": "stderr",
     "output_type": "stream",
     "text": [
      "2025/04/26 21:15:20 WARNING mlflow.models.model: Model logged without a signature and input example. Please set `input_example` parameter when logging the model to auto infer the model signature.\n"
     ]
    },
    {
     "name": "stdout",
     "output_type": "stream",
     "text": [
      "🏃 View run Random Forest CV at: http://127.0.0.1:5000/#/experiments/730251750864844700/runs/a8be26a689824f2ab52dc97a042f9561\n",
      "🧪 View experiment at: http://127.0.0.1:5000/#/experiments/730251750864844700\n"
     ]
    }
   ],
   "source": [
    "mlflow.set_experiment('Flight_Price_Experiment_0')\n",
    "mlflow.set_tracking_uri('http://127.0.0.1:5000')\n",
    "for i, element in enumerate(models):\n",
    "    model_name = element[0]\n",
    "    params = element[1]\n",
    "    model = element[2]\n",
    "    score = report[i]\n",
    "    \n",
    "    with mlflow.start_run(run_name = model_name):\n",
    "        mlflow.log_params(params)\n",
    "        mlflow.log_metrics({'MSE': score[1],\n",
    "                            'RMSE':score[2],\n",
    "                            'MAE':score[3],\n",
    "                            'R2': score[4]})\n",
    "        mlflow.sklearn.log_model(model, 'model')"
   ]
  }
 ],
 "metadata": {
  "kernelspec": {
   "display_name": "Python 3",
   "language": "python",
   "name": "python3"
  },
  "language_info": {
   "codemirror_mode": {
    "name": "ipython",
    "version": 3
   },
   "file_extension": ".py",
   "mimetype": "text/x-python",
   "name": "python",
   "nbconvert_exporter": "python",
   "pygments_lexer": "ipython3",
   "version": "3.12.5"
  }
 },
 "nbformat": 4,
 "nbformat_minor": 5
}
